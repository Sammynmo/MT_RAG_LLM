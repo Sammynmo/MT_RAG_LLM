{
 "cells": [
  {
   "cell_type": "markdown",
   "metadata": {},
   "source": [
    "**MongoDB Vector Set up**\n",
    "\n",
    "link: https://cloud.mongodb.com/"
   ]
  },
  {
   "cell_type": "code",
   "execution_count": 1,
   "metadata": {},
   "outputs": [
    {
     "name": "stdout",
     "output_type": "stream",
     "text": [
      "Requirement already satisfied: datasets in c:\\users\\samir\\documents\\github\\mt_rag_llm\\mtgitenv\\lib\\site-packages (2.21.0)\n",
      "Requirement already satisfied: pandas in c:\\users\\samir\\documents\\github\\mt_rag_llm\\mtgitenv\\lib\\site-packages (2.2.2)\n",
      "Requirement already satisfied: pymongo in c:\\users\\samir\\documents\\github\\mt_rag_llm\\mtgitenv\\lib\\site-packages (4.8.0)\n",
      "Requirement already satisfied: sentence_transformers in c:\\users\\samir\\documents\\github\\mt_rag_llm\\mtgitenv\\lib\\site-packages (3.0.1)\n",
      "Requirement already satisfied: python-dotenv in c:\\users\\samir\\documents\\github\\mt_rag_llm\\mtgitenv\\lib\\site-packages (1.0.1)\n",
      "Requirement already satisfied: filelock in c:\\users\\samir\\documents\\github\\mt_rag_llm\\mtgitenv\\lib\\site-packages (from datasets) (3.15.4)\n",
      "Requirement already satisfied: numpy>=1.17 in c:\\users\\samir\\documents\\github\\mt_rag_llm\\mtgitenv\\lib\\site-packages (from datasets) (1.26.4)\n",
      "Requirement already satisfied: pyarrow>=15.0.0 in c:\\users\\samir\\documents\\github\\mt_rag_llm\\mtgitenv\\lib\\site-packages (from datasets) (17.0.0)\n",
      "Requirement already satisfied: dill<0.3.9,>=0.3.0 in c:\\users\\samir\\documents\\github\\mt_rag_llm\\mtgitenv\\lib\\site-packages (from datasets) (0.3.8)\n",
      "Requirement already satisfied: requests>=2.32.2 in c:\\users\\samir\\documents\\github\\mt_rag_llm\\mtgitenv\\lib\\site-packages (from datasets) (2.32.3)\n",
      "Requirement already satisfied: tqdm>=4.66.3 in c:\\users\\samir\\documents\\github\\mt_rag_llm\\mtgitenv\\lib\\site-packages (from datasets) (4.66.5)\n",
      "Requirement already satisfied: xxhash in c:\\users\\samir\\documents\\github\\mt_rag_llm\\mtgitenv\\lib\\site-packages (from datasets) (3.5.0)\n",
      "Requirement already satisfied: multiprocess in c:\\users\\samir\\documents\\github\\mt_rag_llm\\mtgitenv\\lib\\site-packages (from datasets) (0.70.16)\n",
      "Requirement already satisfied: fsspec<=2024.6.1,>=2023.1.0 in c:\\users\\samir\\documents\\github\\mt_rag_llm\\mtgitenv\\lib\\site-packages (from fsspec[http]<=2024.6.1,>=2023.1.0->datasets) (2024.6.1)\n",
      "Requirement already satisfied: aiohttp in c:\\users\\samir\\documents\\github\\mt_rag_llm\\mtgitenv\\lib\\site-packages (from datasets) (3.10.5)\n",
      "Requirement already satisfied: huggingface-hub>=0.21.2 in c:\\users\\samir\\documents\\github\\mt_rag_llm\\mtgitenv\\lib\\site-packages (from datasets) (0.24.6)\n",
      "Requirement already satisfied: packaging in c:\\users\\samir\\documents\\github\\mt_rag_llm\\mtgitenv\\lib\\site-packages (from datasets) (24.1)\n",
      "Requirement already satisfied: pyyaml>=5.1 in c:\\users\\samir\\documents\\github\\mt_rag_llm\\mtgitenv\\lib\\site-packages (from datasets) (6.0.2)\n",
      "Requirement already satisfied: python-dateutil>=2.8.2 in c:\\users\\samir\\documents\\github\\mt_rag_llm\\mtgitenv\\lib\\site-packages (from pandas) (2.9.0.post0)\n",
      "Requirement already satisfied: pytz>=2020.1 in c:\\users\\samir\\documents\\github\\mt_rag_llm\\mtgitenv\\lib\\site-packages (from pandas) (2024.1)\n",
      "Requirement already satisfied: tzdata>=2022.7 in c:\\users\\samir\\documents\\github\\mt_rag_llm\\mtgitenv\\lib\\site-packages (from pandas) (2024.1)\n",
      "Requirement already satisfied: dnspython<3.0.0,>=1.16.0 in c:\\users\\samir\\documents\\github\\mt_rag_llm\\mtgitenv\\lib\\site-packages (from pymongo) (2.6.1)\n",
      "Requirement already satisfied: transformers<5.0.0,>=4.34.0 in c:\\users\\samir\\documents\\github\\mt_rag_llm\\mtgitenv\\lib\\site-packages (from sentence_transformers) (4.44.2)\n",
      "Requirement already satisfied: torch>=1.11.0 in c:\\users\\samir\\documents\\github\\mt_rag_llm\\mtgitenv\\lib\\site-packages (from sentence_transformers) (2.4.0)\n",
      "Requirement already satisfied: scikit-learn in c:\\users\\samir\\documents\\github\\mt_rag_llm\\mtgitenv\\lib\\site-packages (from sentence_transformers) (1.5.1)\n",
      "Requirement already satisfied: scipy in c:\\users\\samir\\documents\\github\\mt_rag_llm\\mtgitenv\\lib\\site-packages (from sentence_transformers) (1.14.1)\n",
      "Requirement already satisfied: Pillow in c:\\users\\samir\\documents\\github\\mt_rag_llm\\mtgitenv\\lib\\site-packages (from sentence_transformers) (10.4.0)\n",
      "Requirement already satisfied: aiohappyeyeballs>=2.3.0 in c:\\users\\samir\\documents\\github\\mt_rag_llm\\mtgitenv\\lib\\site-packages (from aiohttp->datasets) (2.4.0)\n",
      "Requirement already satisfied: aiosignal>=1.1.2 in c:\\users\\samir\\documents\\github\\mt_rag_llm\\mtgitenv\\lib\\site-packages (from aiohttp->datasets) (1.3.1)\n",
      "Requirement already satisfied: attrs>=17.3.0 in c:\\users\\samir\\documents\\github\\mt_rag_llm\\mtgitenv\\lib\\site-packages (from aiohttp->datasets) (24.2.0)\n",
      "Requirement already satisfied: frozenlist>=1.1.1 in c:\\users\\samir\\documents\\github\\mt_rag_llm\\mtgitenv\\lib\\site-packages (from aiohttp->datasets) (1.4.1)\n",
      "Requirement already satisfied: multidict<7.0,>=4.5 in c:\\users\\samir\\documents\\github\\mt_rag_llm\\mtgitenv\\lib\\site-packages (from aiohttp->datasets) (6.0.5)\n",
      "Requirement already satisfied: yarl<2.0,>=1.0 in c:\\users\\samir\\documents\\github\\mt_rag_llm\\mtgitenv\\lib\\site-packages (from aiohttp->datasets) (1.9.4)\n",
      "Requirement already satisfied: typing-extensions>=3.7.4.3 in c:\\users\\samir\\documents\\github\\mt_rag_llm\\mtgitenv\\lib\\site-packages (from huggingface-hub>=0.21.2->datasets) (4.12.2)\n",
      "Requirement already satisfied: six>=1.5 in c:\\users\\samir\\documents\\github\\mt_rag_llm\\mtgitenv\\lib\\site-packages (from python-dateutil>=2.8.2->pandas) (1.16.0)\n",
      "Requirement already satisfied: charset-normalizer<4,>=2 in c:\\users\\samir\\documents\\github\\mt_rag_llm\\mtgitenv\\lib\\site-packages (from requests>=2.32.2->datasets) (3.3.2)\n",
      "Requirement already satisfied: idna<4,>=2.5 in c:\\users\\samir\\documents\\github\\mt_rag_llm\\mtgitenv\\lib\\site-packages (from requests>=2.32.2->datasets) (3.8)\n",
      "Requirement already satisfied: urllib3<3,>=1.21.1 in c:\\users\\samir\\documents\\github\\mt_rag_llm\\mtgitenv\\lib\\site-packages (from requests>=2.32.2->datasets) (2.2.2)\n",
      "Requirement already satisfied: certifi>=2017.4.17 in c:\\users\\samir\\documents\\github\\mt_rag_llm\\mtgitenv\\lib\\site-packages (from requests>=2.32.2->datasets) (2024.7.4)\n",
      "Requirement already satisfied: sympy in c:\\users\\samir\\documents\\github\\mt_rag_llm\\mtgitenv\\lib\\site-packages (from torch>=1.11.0->sentence_transformers) (1.13.2)\n",
      "Requirement already satisfied: networkx in c:\\users\\samir\\documents\\github\\mt_rag_llm\\mtgitenv\\lib\\site-packages (from torch>=1.11.0->sentence_transformers) (3.3)\n",
      "Requirement already satisfied: jinja2 in c:\\users\\samir\\documents\\github\\mt_rag_llm\\mtgitenv\\lib\\site-packages (from torch>=1.11.0->sentence_transformers) (3.1.4)\n",
      "Requirement already satisfied: setuptools in c:\\users\\samir\\documents\\github\\mt_rag_llm\\mtgitenv\\lib\\site-packages (from torch>=1.11.0->sentence_transformers) (73.0.1)\n",
      "Requirement already satisfied: colorama in c:\\users\\samir\\documents\\github\\mt_rag_llm\\mtgitenv\\lib\\site-packages (from tqdm>=4.66.3->datasets) (0.4.6)\n",
      "Requirement already satisfied: regex!=2019.12.17 in c:\\users\\samir\\documents\\github\\mt_rag_llm\\mtgitenv\\lib\\site-packages (from transformers<5.0.0,>=4.34.0->sentence_transformers) (2024.7.24)\n",
      "Requirement already satisfied: safetensors>=0.4.1 in c:\\users\\samir\\documents\\github\\mt_rag_llm\\mtgitenv\\lib\\site-packages (from transformers<5.0.0,>=4.34.0->sentence_transformers) (0.4.4)\n",
      "Requirement already satisfied: tokenizers<0.20,>=0.19 in c:\\users\\samir\\documents\\github\\mt_rag_llm\\mtgitenv\\lib\\site-packages (from transformers<5.0.0,>=4.34.0->sentence_transformers) (0.19.1)\n",
      "Requirement already satisfied: joblib>=1.2.0 in c:\\users\\samir\\documents\\github\\mt_rag_llm\\mtgitenv\\lib\\site-packages (from scikit-learn->sentence_transformers) (1.4.2)\n",
      "Requirement already satisfied: threadpoolctl>=3.1.0 in c:\\users\\samir\\documents\\github\\mt_rag_llm\\mtgitenv\\lib\\site-packages (from scikit-learn->sentence_transformers) (3.5.0)\n",
      "Requirement already satisfied: MarkupSafe>=2.0 in c:\\users\\samir\\documents\\github\\mt_rag_llm\\mtgitenv\\lib\\site-packages (from jinja2->torch>=1.11.0->sentence_transformers) (2.1.5)\n",
      "Requirement already satisfied: mpmath<1.4,>=1.1.0 in c:\\users\\samir\\documents\\github\\mt_rag_llm\\mtgitenv\\lib\\site-packages (from sympy->torch>=1.11.0->sentence_transformers) (1.3.0)\n",
      "Note: you may need to restart the kernel to use updated packages.\n",
      "Requirement already satisfied: transformers in c:\\users\\samir\\documents\\github\\mt_rag_llm\\mtgitenv\\lib\\site-packages (4.44.2)Note: you may need to restart the kernel to use updated packages.\n",
      "\n",
      "Requirement already satisfied: filelock in c:\\users\\samir\\documents\\github\\mt_rag_llm\\mtgitenv\\lib\\site-packages (from transformers) (3.15.4)\n",
      "Requirement already satisfied: huggingface-hub<1.0,>=0.23.2 in c:\\users\\samir\\documents\\github\\mt_rag_llm\\mtgitenv\\lib\\site-packages (from transformers) (0.24.6)\n",
      "Requirement already satisfied: numpy>=1.17 in c:\\users\\samir\\documents\\github\\mt_rag_llm\\mtgitenv\\lib\\site-packages (from transformers) (1.26.4)\n",
      "Requirement already satisfied: packaging>=20.0 in c:\\users\\samir\\documents\\github\\mt_rag_llm\\mtgitenv\\lib\\site-packages (from transformers) (24.1)\n",
      "Requirement already satisfied: pyyaml>=5.1 in c:\\users\\samir\\documents\\github\\mt_rag_llm\\mtgitenv\\lib\\site-packages (from transformers) (6.0.2)\n",
      "Requirement already satisfied: regex!=2019.12.17 in c:\\users\\samir\\documents\\github\\mt_rag_llm\\mtgitenv\\lib\\site-packages (from transformers) (2024.7.24)\n",
      "Requirement already satisfied: requests in c:\\users\\samir\\documents\\github\\mt_rag_llm\\mtgitenv\\lib\\site-packages (from transformers) (2.32.3)\n",
      "Requirement already satisfied: safetensors>=0.4.1 in c:\\users\\samir\\documents\\github\\mt_rag_llm\\mtgitenv\\lib\\site-packages (from transformers) (0.4.4)\n",
      "Requirement already satisfied: tokenizers<0.20,>=0.19 in c:\\users\\samir\\documents\\github\\mt_rag_llm\\mtgitenv\\lib\\site-packages (from transformers) (0.19.1)\n",
      "Requirement already satisfied: tqdm>=4.27 in c:\\users\\samir\\documents\\github\\mt_rag_llm\\mtgitenv\\lib\\site-packages (from transformers) (4.66.5)\n",
      "Requirement already satisfied: fsspec>=2023.5.0 in c:\\users\\samir\\documents\\github\\mt_rag_llm\\mtgitenv\\lib\\site-packages (from huggingface-hub<1.0,>=0.23.2->transformers) (2024.6.1)\n",
      "Requirement already satisfied: typing-extensions>=3.7.4.3 in c:\\users\\samir\\documents\\github\\mt_rag_llm\\mtgitenv\\lib\\site-packages (from huggingface-hub<1.0,>=0.23.2->transformers) (4.12.2)\n",
      "Requirement already satisfied: colorama in c:\\users\\samir\\documents\\github\\mt_rag_llm\\mtgitenv\\lib\\site-packages (from tqdm>=4.27->transformers) (0.4.6)\n",
      "Requirement already satisfied: charset-normalizer<4,>=2 in c:\\users\\samir\\documents\\github\\mt_rag_llm\\mtgitenv\\lib\\site-packages (from requests->transformers) (3.3.2)\n",
      "Requirement already satisfied: idna<4,>=2.5 in c:\\users\\samir\\documents\\github\\mt_rag_llm\\mtgitenv\\lib\\site-packages (from requests->transformers) (3.8)\n",
      "Requirement already satisfied: urllib3<3,>=1.21.1 in c:\\users\\samir\\documents\\github\\mt_rag_llm\\mtgitenv\\lib\\site-packages (from requests->transformers) (2.2.2)\n",
      "Requirement already satisfied: certifi>=2017.4.17 in c:\\users\\samir\\documents\\github\\mt_rag_llm\\mtgitenv\\lib\\site-packages (from requests->transformers) (2024.7.4)\n",
      "Requirement already satisfied: accelerate in c:\\users\\samir\\documents\\github\\mt_rag_llm\\mtgitenv\\lib\\site-packages (0.33.0)\n",
      "Requirement already satisfied: numpy<2.0.0,>=1.17 in c:\\users\\samir\\documents\\github\\mt_rag_llm\\mtgitenv\\lib\\site-packages (from accelerate) (1.26.4)\n",
      "Requirement already satisfied: packaging>=20.0 in c:\\users\\samir\\documents\\github\\mt_rag_llm\\mtgitenv\\lib\\site-packages (from accelerate) (24.1)\n",
      "Requirement already satisfied: psutil in c:\\users\\samir\\documents\\github\\mt_rag_llm\\mtgitenv\\lib\\site-packages (from accelerate) (6.0.0)\n",
      "Requirement already satisfied: pyyaml in c:\\users\\samir\\documents\\github\\mt_rag_llm\\mtgitenv\\lib\\site-packages (from accelerate) (6.0.2)\n",
      "Requirement already satisfied: torch>=1.10.0 in c:\\users\\samir\\documents\\github\\mt_rag_llm\\mtgitenv\\lib\\site-packages (from accelerate) (2.4.0)\n",
      "Requirement already satisfied: huggingface-hub>=0.21.0 in c:\\users\\samir\\documents\\github\\mt_rag_llm\\mtgitenv\\lib\\site-packages (from accelerate) (0.24.6)\n",
      "Requirement already satisfied: safetensors>=0.3.1 in c:\\users\\samir\\documents\\github\\mt_rag_llm\\mtgitenv\\lib\\site-packages (from accelerate) (0.4.4)\n",
      "Requirement already satisfied: filelock in c:\\users\\samir\\documents\\github\\mt_rag_llm\\mtgitenv\\lib\\site-packages (from huggingface-hub>=0.21.0->accelerate) (3.15.4)\n",
      "Requirement already satisfied: fsspec>=2023.5.0 in c:\\users\\samir\\documents\\github\\mt_rag_llm\\mtgitenv\\lib\\site-packages (from huggingface-hub>=0.21.0->accelerate) (2024.6.1)\n",
      "Requirement already satisfied: requests in c:\\users\\samir\\documents\\github\\mt_rag_llm\\mtgitenv\\lib\\site-packages (from huggingface-hub>=0.21.0->accelerate) (2.32.3)\n",
      "Requirement already satisfied: tqdm>=4.42.1 in c:\\users\\samir\\documents\\github\\mt_rag_llm\\mtgitenv\\lib\\site-packages (from huggingface-hub>=0.21.0->accelerate) (4.66.5)\n",
      "Requirement already satisfied: typing-extensions>=3.7.4.3 in c:\\users\\samir\\documents\\github\\mt_rag_llm\\mtgitenv\\lib\\site-packages (from huggingface-hub>=0.21.0->accelerate) (4.12.2)\n",
      "Requirement already satisfied: sympy in c:\\users\\samir\\documents\\github\\mt_rag_llm\\mtgitenv\\lib\\site-packages (from torch>=1.10.0->accelerate) (1.13.2)\n",
      "Requirement already satisfied: networkx in c:\\users\\samir\\documents\\github\\mt_rag_llm\\mtgitenv\\lib\\site-packages (from torch>=1.10.0->accelerate) (3.3)\n",
      "Requirement already satisfied: jinja2 in c:\\users\\samir\\documents\\github\\mt_rag_llm\\mtgitenv\\lib\\site-packages (from torch>=1.10.0->accelerate) (3.1.4)\n",
      "Requirement already satisfied: setuptools in c:\\users\\samir\\documents\\github\\mt_rag_llm\\mtgitenv\\lib\\site-packages (from torch>=1.10.0->accelerate) (73.0.1)\n",
      "Requirement already satisfied: colorama in c:\\users\\samir\\documents\\github\\mt_rag_llm\\mtgitenv\\lib\\site-packages (from tqdm>=4.42.1->huggingface-hub>=0.21.0->accelerate) (0.4.6)\n",
      "Requirement already satisfied: MarkupSafe>=2.0 in c:\\users\\samir\\documents\\github\\mt_rag_llm\\mtgitenv\\lib\\site-packages (from jinja2->torch>=1.10.0->accelerate) (2.1.5)\n",
      "Requirement already satisfied: charset-normalizer<4,>=2 in c:\\users\\samir\\documents\\github\\mt_rag_llm\\mtgitenv\\lib\\site-packages (from requests->huggingface-hub>=0.21.0->accelerate) (3.3.2)\n",
      "Requirement already satisfied: idna<4,>=2.5 in c:\\users\\samir\\documents\\github\\mt_rag_llm\\mtgitenv\\lib\\site-packages (from requests->huggingface-hub>=0.21.0->accelerate) (3.8)\n",
      "Requirement already satisfied: urllib3<3,>=1.21.1 in c:\\users\\samir\\documents\\github\\mt_rag_llm\\mtgitenv\\lib\\site-packages (from requests->huggingface-hub>=0.21.0->accelerate) (2.2.2)\n",
      "Requirement already satisfied: certifi>=2017.4.17 in c:\\users\\samir\\documents\\github\\mt_rag_llm\\mtgitenv\\lib\\site-packages (from requests->huggingface-hub>=0.21.0->accelerate) (2024.7.4)\n",
      "Requirement already satisfied: mpmath<1.4,>=1.1.0 in c:\\users\\samir\\documents\\github\\mt_rag_llm\\mtgitenv\\lib\\site-packages (from sympy->torch>=1.10.0->accelerate) (1.3.0)\n",
      "Note: you may need to restart the kernel to use updated packages.\n"
     ]
    }
   ],
   "source": [
    "# Installing the required packages\n",
    "%pip install datasets pandas pymongo sentence_transformers python-dotenv\n",
    "%pip install -U transformers\n",
    "#install below if using GPU\n",
    "%pip install accelerate"
   ]
  },
  {
   "cell_type": "code",
   "execution_count": 2,
   "metadata": {},
   "outputs": [],
   "source": [
    "# Importing the required libraries\n",
    "import os\n",
    "from dotenv import load_dotenv\n",
    "from datasets import load_dataset\n",
    "import pandas as pd\n",
    "from sentence_transformers import SentenceTransformer # https://huggingface.co/thenlper/gte-large\n",
    "from pymongo.mongo_client import MongoClient"
   ]
  },
  {
   "cell_type": "code",
   "execution_count": 3,
   "metadata": {},
   "outputs": [],
   "source": [
    "# In Google Colab, you can use the following code to access the secret\n",
    "#from google.colab import userdata\n",
    "#MONGO_URI = userdata.get('MONGO_URI')\n",
    "\n",
    "# In your local environment, you can use the following code to access the secret\n",
    "load_dotenv()\n",
    "MONGO_URI_SQL = os.getenv(\"MONGO_URI_SQL\")"
   ]
  },
  {
   "cell_type": "code",
   "execution_count": null,
   "metadata": {},
   "outputs": [],
   "source": [
    "# In Google Colab, the Google Drive can be mounted as follows to access documents\n",
    "#from google.colab import drive\n",
    "#drive.mount('/content/drive')"
   ]
  },
  {
   "cell_type": "code",
   "execution_count": 4,
   "metadata": {},
   "outputs": [
    {
     "name": "stdout",
     "output_type": "stream",
     "text": [
      "Dataset Path: SpiderTrain_complete.csv\n"
     ]
    },
    {
     "data": {
      "application/vnd.jupyter.widget-view+json": {
       "model_id": "baa00c34f0594e888c17b3f5a7e9ad3b",
       "version_major": 2,
       "version_minor": 0
      },
      "text/plain": [
       "Generating train split: 0 examples [00:00, ? examples/s]"
      ]
     },
     "metadata": {},
     "output_type": "display_data"
    },
    {
     "name": "stdout",
     "output_type": "stream",
     "text": [
      "                                               Query  \\\n",
      "0         SELECT count(*) FROM head WHERE age  >  56   \n",
      "1  SELECT name ,  born_state ,  age FROM head ORD...   \n",
      "2  SELECT creation ,  name ,  budget_in_billions ...   \n",
      "3  SELECT max(budget_in_billions) ,  min(budget_i...   \n",
      "4  SELECT avg(num_employees) FROM department WHER...   \n",
      "\n",
      "                                            Question  \n",
      "0  How many heads of the departments are older th...  \n",
      "1  List the name, born state and age of the heads...  \n",
      "2  List the creation year, name and budget of eac...  \n",
      "3  What are the maximum and minimum budget of the...  \n",
      "4  What is the average number of employees of the...  \n"
     ]
    }
   ],
   "source": [
    "# Upload the dataset and transform to dataframe\n",
    "# Define the dataset path\n",
    "dataset_path = \"SpiderTrain_complete.csv\"\n",
    "print(\"Dataset Path:\", dataset_path)\n",
    "\n",
    "# Check if the file exists at the specified path\n",
    "if not os.path.isfile(dataset_path):\n",
    "    raise FileNotFoundError(f\"Unable to find the file at {dataset_path}\")\n",
    "\n",
    "# Load the dataset\n",
    "dataset = load_dataset('csv', data_files=dataset_path)\n",
    "\n",
    "# Convert the dataset to a pandas dataframe\n",
    "dataset_df = pd.DataFrame(dataset[\"train\"])\n",
    "\n",
    "# Print a few rows to verify\n",
    "print(dataset_df.head())"
   ]
  },
  {
   "cell_type": "code",
   "execution_count": 5,
   "metadata": {},
   "outputs": [],
   "source": [
    "# Setting the embedding model and getting the embeddings for the dataframe\n",
    "embedding_model = SentenceTransformer(\"thenlper/gte-large\")\n",
    "def get_embedding(text: str) -> list[float]:\n",
    "    if not text.strip():\n",
    "        print(\"Attempted to get embedding for empty text.\")\n",
    "        return []\n",
    "\n",
    "    embedding = embedding_model.encode(text)\n",
    "\n",
    "    return embedding.tolist()\n",
    "dataset_df[\"embedding\"] = dataset_df[\"Query\"].apply(get_embedding)"
   ]
  },
  {
   "cell_type": "code",
   "execution_count": 6,
   "metadata": {},
   "outputs": [
    {
     "name": "stdout",
     "output_type": "stream",
     "text": [
      "Pinged your deployment. You successfully connected to MongoDB!\n"
     ]
    }
   ],
   "source": [
    "# MongoDB setup\n",
    "client = MongoClient(MONGO_URI_SQL)\n",
    "dbName = \"MVector\"\n",
    "collectionName = \"MTSQL\"\n",
    "collection = client[dbName][collectionName]\n",
    "index_name = \"vector_index_sql\"\n",
    "\n",
    "# Send a ping to confirm a successful connection\n",
    "try:\n",
    "    client.admin.command('ping')\n",
    "    print(\"Pinged your deployment. You successfully connected to MongoDB!\")\n",
    "except Exception as e:\n",
    "    print(e)"
   ]
  },
  {
   "cell_type": "code",
   "execution_count": null,
   "metadata": {},
   "outputs": [],
   "source": [
    "# Delete any existing records in the collection before loading the new data\n",
    "collection.delete_many({})"
   ]
  },
  {
   "cell_type": "code",
   "execution_count": 7,
   "metadata": {},
   "outputs": [
    {
     "name": "stdout",
     "output_type": "stream",
     "text": [
      "Data ingestion into MongoDB completed\n"
     ]
    }
   ],
   "source": [
    "# Insert the documents into the collection\n",
    "documents = dataset_df.to_dict(\"records\")\n",
    "collection.insert_many(documents)\n",
    "print(\"Data ingestion into MongoDB completed\")"
   ]
  }
 ],
 "metadata": {
  "kernelspec": {
   "display_name": "mtenv",
   "language": "python",
   "name": "python3"
  },
  "language_info": {
   "codemirror_mode": {
    "name": "ipython",
    "version": 3
   },
   "file_extension": ".py",
   "mimetype": "text/x-python",
   "name": "python",
   "nbconvert_exporter": "python",
   "pygments_lexer": "ipython3",
   "version": "3.12.3"
  }
 },
 "nbformat": 4,
 "nbformat_minor": 2
}
