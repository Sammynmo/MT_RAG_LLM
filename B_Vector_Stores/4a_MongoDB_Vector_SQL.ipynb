{
 "cells": [
  {
   "cell_type": "markdown",
   "metadata": {},
   "source": [
    "***MongoDB Vector Set up***\n",
    "\n",
    "link: https://cloud.mongodb.com/"
   ]
  },
  {
   "cell_type": "markdown",
   "metadata": {},
   "source": [
    "**Loading packages, libraries and secrets into notebook**"
   ]
  },
  {
   "cell_type": "code",
   "execution_count": 2,
   "metadata": {},
   "outputs": [
    {
     "name": "stdout",
     "output_type": "stream",
     "text": [
      "Requirement already satisfied: langchain in c:\\users\\samir\\documents\\github\\mt_rag_llm\\mtgitenv\\lib\\site-packages (0.2.14)Note: you may need to restart the kernel to use updated packages.\n",
      "\n",
      "Requirement already satisfied: pymongo in c:\\users\\samir\\documents\\github\\mt_rag_llm\\mtgitenv\\lib\\site-packages (4.8.0)\n",
      "Requirement already satisfied: openai in c:\\users\\samir\\documents\\github\\mt_rag_llm\\mtgitenv\\lib\\site-packages (1.42.0)\n",
      "Requirement already satisfied: gradio in c:\\users\\samir\\documents\\github\\mt_rag_llm\\mtgitenv\\lib\\site-packages (4.42.0)\n",
      "Requirement already satisfied: requests in c:\\users\\samir\\documents\\github\\mt_rag_llm\\mtgitenv\\lib\\site-packages (2.32.3)\n",
      "Requirement already satisfied: langchain_community in c:\\users\\samir\\documents\\github\\mt_rag_llm\\mtgitenv\\lib\\site-packages (0.2.12)\n",
      "Requirement already satisfied: langchain-openai in c:\\users\\samir\\documents\\github\\mt_rag_llm\\mtgitenv\\lib\\site-packages (0.1.22)\n",
      "Requirement already satisfied: langchain-mongodb in c:\\users\\samir\\documents\\github\\mt_rag_llm\\mtgitenv\\lib\\site-packages (0.1.8)\n",
      "Requirement already satisfied: sentence_transformers in c:\\users\\samir\\documents\\github\\mt_rag_llm\\mtgitenv\\lib\\site-packages (3.0.1)\n",
      "Requirement already satisfied: python-dotenv in c:\\users\\samir\\documents\\github\\mt_rag_llm\\mtgitenv\\lib\\site-packages (1.0.1)\n",
      "Requirement already satisfied: datasets in c:\\users\\samir\\documents\\github\\mt_rag_llm\\mtgitenv\\lib\\site-packages (2.21.0)\n",
      "Requirement already satisfied: pandas in c:\\users\\samir\\documents\\github\\mt_rag_llm\\mtgitenv\\lib\\site-packages (2.2.2)\n",
      "Requirement already satisfied: nbformat in c:\\users\\samir\\documents\\github\\mt_rag_llm\\mtgitenv\\lib\\site-packages (5.10.4)\n",
      "Requirement already satisfied: PyYAML>=5.3 in c:\\users\\samir\\documents\\github\\mt_rag_llm\\mtgitenv\\lib\\site-packages (from langchain) (6.0.2)\n",
      "Requirement already satisfied: SQLAlchemy<3,>=1.4 in c:\\users\\samir\\documents\\github\\mt_rag_llm\\mtgitenv\\lib\\site-packages (from langchain) (2.0.32)\n",
      "Requirement already satisfied: aiohttp<4.0.0,>=3.8.3 in c:\\users\\samir\\documents\\github\\mt_rag_llm\\mtgitenv\\lib\\site-packages (from langchain) (3.10.5)\n",
      "Requirement already satisfied: langchain-core<0.3.0,>=0.2.32 in c:\\users\\samir\\documents\\github\\mt_rag_llm\\mtgitenv\\lib\\site-packages (from langchain) (0.2.40)\n",
      "Requirement already satisfied: langchain-text-splitters<0.3.0,>=0.2.0 in c:\\users\\samir\\documents\\github\\mt_rag_llm\\mtgitenv\\lib\\site-packages (from langchain) (0.2.2)\n",
      "Requirement already satisfied: langsmith<0.2.0,>=0.1.17 in c:\\users\\samir\\documents\\github\\mt_rag_llm\\mtgitenv\\lib\\site-packages (from langchain) (0.1.121)\n",
      "Requirement already satisfied: numpy<2.0.0,>=1.26.0 in c:\\users\\samir\\documents\\github\\mt_rag_llm\\mtgitenv\\lib\\site-packages (from langchain) (1.26.4)\n",
      "Requirement already satisfied: pydantic<3,>=1 in c:\\users\\samir\\documents\\github\\mt_rag_llm\\mtgitenv\\lib\\site-packages (from langchain) (2.8.2)\n",
      "Requirement already satisfied: tenacity!=8.4.0,<9.0.0,>=8.1.0 in c:\\users\\samir\\documents\\github\\mt_rag_llm\\mtgitenv\\lib\\site-packages (from langchain) (8.5.0)\n",
      "Requirement already satisfied: dnspython<3.0.0,>=1.16.0 in c:\\users\\samir\\documents\\github\\mt_rag_llm\\mtgitenv\\lib\\site-packages (from pymongo) (2.6.1)\n",
      "Requirement already satisfied: anyio<5,>=3.5.0 in c:\\users\\samir\\documents\\github\\mt_rag_llm\\mtgitenv\\lib\\site-packages (from openai) (4.4.0)\n",
      "Requirement already satisfied: distro<2,>=1.7.0 in c:\\users\\samir\\documents\\github\\mt_rag_llm\\mtgitenv\\lib\\site-packages (from openai) (1.9.0)\n",
      "Requirement already satisfied: httpx<1,>=0.23.0 in c:\\users\\samir\\documents\\github\\mt_rag_llm\\mtgitenv\\lib\\site-packages (from openai) (0.27.0)\n",
      "Requirement already satisfied: jiter<1,>=0.4.0 in c:\\users\\samir\\documents\\github\\mt_rag_llm\\mtgitenv\\lib\\site-packages (from openai) (0.5.0)\n",
      "Requirement already satisfied: sniffio in c:\\users\\samir\\documents\\github\\mt_rag_llm\\mtgitenv\\lib\\site-packages (from openai) (1.3.1)\n",
      "Requirement already satisfied: tqdm>4 in c:\\users\\samir\\documents\\github\\mt_rag_llm\\mtgitenv\\lib\\site-packages (from openai) (4.66.5)\n",
      "Requirement already satisfied: typing-extensions<5,>=4.11 in c:\\users\\samir\\documents\\github\\mt_rag_llm\\mtgitenv\\lib\\site-packages (from openai) (4.12.2)\n",
      "Requirement already satisfied: aiofiles<24.0,>=22.0 in c:\\users\\samir\\documents\\github\\mt_rag_llm\\mtgitenv\\lib\\site-packages (from gradio) (23.2.1)\n",
      "Requirement already satisfied: fastapi in c:\\users\\samir\\documents\\github\\mt_rag_llm\\mtgitenv\\lib\\site-packages (from gradio) (0.112.2)\n",
      "Requirement already satisfied: ffmpy in c:\\users\\samir\\documents\\github\\mt_rag_llm\\mtgitenv\\lib\\site-packages (from gradio) (0.4.0)\n",
      "Requirement already satisfied: gradio-client==1.3.0 in c:\\users\\samir\\documents\\github\\mt_rag_llm\\mtgitenv\\lib\\site-packages (from gradio) (1.3.0)\n",
      "Requirement already satisfied: huggingface-hub>=0.19.3 in c:\\users\\samir\\documents\\github\\mt_rag_llm\\mtgitenv\\lib\\site-packages (from gradio) (0.24.6)\n",
      "Requirement already satisfied: importlib-resources<7.0,>=1.3 in c:\\users\\samir\\documents\\github\\mt_rag_llm\\mtgitenv\\lib\\site-packages (from gradio) (6.4.4)\n",
      "Requirement already satisfied: jinja2<4.0 in c:\\users\\samir\\documents\\github\\mt_rag_llm\\mtgitenv\\lib\\site-packages (from gradio) (3.1.4)\n",
      "Requirement already satisfied: markupsafe~=2.0 in c:\\users\\samir\\documents\\github\\mt_rag_llm\\mtgitenv\\lib\\site-packages (from gradio) (2.1.5)\n",
      "Requirement already satisfied: matplotlib~=3.0 in c:\\users\\samir\\documents\\github\\mt_rag_llm\\mtgitenv\\lib\\site-packages (from gradio) (3.9.2)\n",
      "Requirement already satisfied: orjson~=3.0 in c:\\users\\samir\\documents\\github\\mt_rag_llm\\mtgitenv\\lib\\site-packages (from gradio) (3.10.7)\n",
      "Requirement already satisfied: packaging in c:\\users\\samir\\documents\\github\\mt_rag_llm\\mtgitenv\\lib\\site-packages (from gradio) (24.1)\n",
      "Requirement already satisfied: pillow<11.0,>=8.0 in c:\\users\\samir\\documents\\github\\mt_rag_llm\\mtgitenv\\lib\\site-packages (from gradio) (10.4.0)\n",
      "Requirement already satisfied: pydub in c:\\users\\samir\\documents\\github\\mt_rag_llm\\mtgitenv\\lib\\site-packages (from gradio) (0.25.1)\n",
      "Requirement already satisfied: python-multipart>=0.0.9 in c:\\users\\samir\\documents\\github\\mt_rag_llm\\mtgitenv\\lib\\site-packages (from gradio) (0.0.9)\n",
      "Requirement already satisfied: ruff>=0.2.2 in c:\\users\\samir\\documents\\github\\mt_rag_llm\\mtgitenv\\lib\\site-packages (from gradio) (0.6.2)\n",
      "Requirement already satisfied: semantic-version~=2.0 in c:\\users\\samir\\documents\\github\\mt_rag_llm\\mtgitenv\\lib\\site-packages (from gradio) (2.10.0)\n",
      "Requirement already satisfied: tomlkit==0.12.0 in c:\\users\\samir\\documents\\github\\mt_rag_llm\\mtgitenv\\lib\\site-packages (from gradio) (0.12.0)\n",
      "Requirement already satisfied: typer<1.0,>=0.12 in c:\\users\\samir\\documents\\github\\mt_rag_llm\\mtgitenv\\lib\\site-packages (from gradio) (0.12.5)\n",
      "Requirement already satisfied: urllib3~=2.0 in c:\\users\\samir\\documents\\github\\mt_rag_llm\\mtgitenv\\lib\\site-packages (from gradio) (2.2.2)\n",
      "Requirement already satisfied: uvicorn>=0.14.0 in c:\\users\\samir\\documents\\github\\mt_rag_llm\\mtgitenv\\lib\\site-packages (from gradio) (0.30.6)\n",
      "Requirement already satisfied: fsspec in c:\\users\\samir\\documents\\github\\mt_rag_llm\\mtgitenv\\lib\\site-packages (from gradio-client==1.3.0->gradio) (2024.6.1)\n",
      "Requirement already satisfied: websockets<13.0,>=10.0 in c:\\users\\samir\\documents\\github\\mt_rag_llm\\mtgitenv\\lib\\site-packages (from gradio-client==1.3.0->gradio) (12.0)\n",
      "Requirement already satisfied: charset-normalizer<4,>=2 in c:\\users\\samir\\documents\\github\\mt_rag_llm\\mtgitenv\\lib\\site-packages (from requests) (3.3.2)\n",
      "Requirement already satisfied: idna<4,>=2.5 in c:\\users\\samir\\documents\\github\\mt_rag_llm\\mtgitenv\\lib\\site-packages (from requests) (3.8)\n",
      "Requirement already satisfied: certifi>=2017.4.17 in c:\\users\\samir\\documents\\github\\mt_rag_llm\\mtgitenv\\lib\\site-packages (from requests) (2024.7.4)\n",
      "Requirement already satisfied: dataclasses-json<0.7,>=0.5.7 in c:\\users\\samir\\documents\\github\\mt_rag_llm\\mtgitenv\\lib\\site-packages (from langchain_community) (0.6.7)\n",
      "Requirement already satisfied: tiktoken<1,>=0.7 in c:\\users\\samir\\documents\\github\\mt_rag_llm\\mtgitenv\\lib\\site-packages (from langchain-openai) (0.7.0)\n",
      "Requirement already satisfied: transformers<5.0.0,>=4.34.0 in c:\\users\\samir\\documents\\github\\mt_rag_llm\\mtgitenv\\lib\\site-packages (from sentence_transformers) (4.44.2)\n",
      "Requirement already satisfied: torch>=1.11.0 in c:\\users\\samir\\documents\\github\\mt_rag_llm\\mtgitenv\\lib\\site-packages (from sentence_transformers) (2.4.0)\n",
      "Requirement already satisfied: scikit-learn in c:\\users\\samir\\documents\\github\\mt_rag_llm\\mtgitenv\\lib\\site-packages (from sentence_transformers) (1.5.1)\n",
      "Requirement already satisfied: scipy in c:\\users\\samir\\documents\\github\\mt_rag_llm\\mtgitenv\\lib\\site-packages (from sentence_transformers) (1.14.1)\n",
      "Requirement already satisfied: filelock in c:\\users\\samir\\documents\\github\\mt_rag_llm\\mtgitenv\\lib\\site-packages (from datasets) (3.15.4)\n",
      "Requirement already satisfied: pyarrow>=15.0.0 in c:\\users\\samir\\documents\\github\\mt_rag_llm\\mtgitenv\\lib\\site-packages (from datasets) (17.0.0)\n",
      "Requirement already satisfied: dill<0.3.9,>=0.3.0 in c:\\users\\samir\\documents\\github\\mt_rag_llm\\mtgitenv\\lib\\site-packages (from datasets) (0.3.8)\n",
      "Requirement already satisfied: xxhash in c:\\users\\samir\\documents\\github\\mt_rag_llm\\mtgitenv\\lib\\site-packages (from datasets) (3.5.0)\n",
      "Requirement already satisfied: multiprocess in c:\\users\\samir\\documents\\github\\mt_rag_llm\\mtgitenv\\lib\\site-packages (from datasets) (0.70.16)\n",
      "Requirement already satisfied: python-dateutil>=2.8.2 in c:\\users\\samir\\documents\\github\\mt_rag_llm\\mtgitenv\\lib\\site-packages (from pandas) (2.9.0.post0)\n",
      "Requirement already satisfied: pytz>=2020.1 in c:\\users\\samir\\documents\\github\\mt_rag_llm\\mtgitenv\\lib\\site-packages (from pandas) (2024.1)\n",
      "Requirement already satisfied: tzdata>=2022.7 in c:\\users\\samir\\documents\\github\\mt_rag_llm\\mtgitenv\\lib\\site-packages (from pandas) (2024.1)\n",
      "Requirement already satisfied: fastjsonschema>=2.15 in c:\\users\\samir\\documents\\github\\mt_rag_llm\\mtgitenv\\lib\\site-packages (from nbformat) (2.20.0)\n",
      "Requirement already satisfied: jsonschema>=2.6 in c:\\users\\samir\\documents\\github\\mt_rag_llm\\mtgitenv\\lib\\site-packages (from nbformat) (4.23.0)\n",
      "Requirement already satisfied: jupyter-core!=5.0.*,>=4.12 in c:\\users\\samir\\documents\\github\\mt_rag_llm\\mtgitenv\\lib\\site-packages (from nbformat) (5.7.2)\n",
      "Requirement already satisfied: traitlets>=5.1 in c:\\users\\samir\\documents\\github\\mt_rag_llm\\mtgitenv\\lib\\site-packages (from nbformat) (5.14.3)\n",
      "Requirement already satisfied: aiohappyeyeballs>=2.3.0 in c:\\users\\samir\\documents\\github\\mt_rag_llm\\mtgitenv\\lib\\site-packages (from aiohttp<4.0.0,>=3.8.3->langchain) (2.4.0)\n",
      "Requirement already satisfied: aiosignal>=1.1.2 in c:\\users\\samir\\documents\\github\\mt_rag_llm\\mtgitenv\\lib\\site-packages (from aiohttp<4.0.0,>=3.8.3->langchain) (1.3.1)\n",
      "Requirement already satisfied: attrs>=17.3.0 in c:\\users\\samir\\documents\\github\\mt_rag_llm\\mtgitenv\\lib\\site-packages (from aiohttp<4.0.0,>=3.8.3->langchain) (24.2.0)\n",
      "Requirement already satisfied: frozenlist>=1.1.1 in c:\\users\\samir\\documents\\github\\mt_rag_llm\\mtgitenv\\lib\\site-packages (from aiohttp<4.0.0,>=3.8.3->langchain) (1.4.1)\n",
      "Requirement already satisfied: multidict<7.0,>=4.5 in c:\\users\\samir\\documents\\github\\mt_rag_llm\\mtgitenv\\lib\\site-packages (from aiohttp<4.0.0,>=3.8.3->langchain) (6.0.5)\n",
      "Requirement already satisfied: yarl<2.0,>=1.0 in c:\\users\\samir\\documents\\github\\mt_rag_llm\\mtgitenv\\lib\\site-packages (from aiohttp<4.0.0,>=3.8.3->langchain) (1.9.4)\n",
      "Requirement already satisfied: marshmallow<4.0.0,>=3.18.0 in c:\\users\\samir\\documents\\github\\mt_rag_llm\\mtgitenv\\lib\\site-packages (from dataclasses-json<0.7,>=0.5.7->langchain_community) (3.22.0)\n",
      "Requirement already satisfied: typing-inspect<1,>=0.4.0 in c:\\users\\samir\\documents\\github\\mt_rag_llm\\mtgitenv\\lib\\site-packages (from dataclasses-json<0.7,>=0.5.7->langchain_community) (0.9.0)\n",
      "Requirement already satisfied: httpcore==1.* in c:\\users\\samir\\documents\\github\\mt_rag_llm\\mtgitenv\\lib\\site-packages (from httpx<1,>=0.23.0->openai) (1.0.5)\n",
      "Requirement already satisfied: h11<0.15,>=0.13 in c:\\users\\samir\\documents\\github\\mt_rag_llm\\mtgitenv\\lib\\site-packages (from httpcore==1.*->httpx<1,>=0.23.0->openai) (0.14.0)\n",
      "Requirement already satisfied: jsonschema-specifications>=2023.03.6 in c:\\users\\samir\\documents\\github\\mt_rag_llm\\mtgitenv\\lib\\site-packages (from jsonschema>=2.6->nbformat) (2023.12.1)\n",
      "Requirement already satisfied: referencing>=0.28.4 in c:\\users\\samir\\documents\\github\\mt_rag_llm\\mtgitenv\\lib\\site-packages (from jsonschema>=2.6->nbformat) (0.35.1)\n",
      "Requirement already satisfied: rpds-py>=0.7.1 in c:\\users\\samir\\documents\\github\\mt_rag_llm\\mtgitenv\\lib\\site-packages (from jsonschema>=2.6->nbformat) (0.20.0)\n",
      "Requirement already satisfied: platformdirs>=2.5 in c:\\users\\samir\\documents\\github\\mt_rag_llm\\mtgitenv\\lib\\site-packages (from jupyter-core!=5.0.*,>=4.12->nbformat) (4.2.2)\n",
      "Requirement already satisfied: pywin32>=300 in c:\\users\\samir\\documents\\github\\mt_rag_llm\\mtgitenv\\lib\\site-packages (from jupyter-core!=5.0.*,>=4.12->nbformat) (306)\n",
      "Requirement already satisfied: jsonpatch<2.0,>=1.33 in c:\\users\\samir\\documents\\github\\mt_rag_llm\\mtgitenv\\lib\\site-packages (from langchain-core<0.3.0,>=0.2.32->langchain) (1.33)\n",
      "Requirement already satisfied: contourpy>=1.0.1 in c:\\users\\samir\\documents\\github\\mt_rag_llm\\mtgitenv\\lib\\site-packages (from matplotlib~=3.0->gradio) (1.2.1)\n",
      "Requirement already satisfied: cycler>=0.10 in c:\\users\\samir\\documents\\github\\mt_rag_llm\\mtgitenv\\lib\\site-packages (from matplotlib~=3.0->gradio) (0.12.1)\n",
      "Requirement already satisfied: fonttools>=4.22.0 in c:\\users\\samir\\documents\\github\\mt_rag_llm\\mtgitenv\\lib\\site-packages (from matplotlib~=3.0->gradio) (4.53.1)\n",
      "Requirement already satisfied: kiwisolver>=1.3.1 in c:\\users\\samir\\documents\\github\\mt_rag_llm\\mtgitenv\\lib\\site-packages (from matplotlib~=3.0->gradio) (1.4.5)\n",
      "Requirement already satisfied: pyparsing>=2.3.1 in c:\\users\\samir\\documents\\github\\mt_rag_llm\\mtgitenv\\lib\\site-packages (from matplotlib~=3.0->gradio) (3.1.4)\n",
      "Requirement already satisfied: annotated-types>=0.4.0 in c:\\users\\samir\\documents\\github\\mt_rag_llm\\mtgitenv\\lib\\site-packages (from pydantic<3,>=1->langchain) (0.7.0)\n",
      "Requirement already satisfied: pydantic-core==2.20.1 in c:\\users\\samir\\documents\\github\\mt_rag_llm\\mtgitenv\\lib\\site-packages (from pydantic<3,>=1->langchain) (2.20.1)\n",
      "Requirement already satisfied: six>=1.5 in c:\\users\\samir\\documents\\github\\mt_rag_llm\\mtgitenv\\lib\\site-packages (from python-dateutil>=2.8.2->pandas) (1.16.0)\n",
      "Requirement already satisfied: greenlet!=0.4.17 in c:\\users\\samir\\documents\\github\\mt_rag_llm\\mtgitenv\\lib\\site-packages (from SQLAlchemy<3,>=1.4->langchain) (3.0.3)\n",
      "Requirement already satisfied: regex>=2022.1.18 in c:\\users\\samir\\documents\\github\\mt_rag_llm\\mtgitenv\\lib\\site-packages (from tiktoken<1,>=0.7->langchain-openai) (2024.7.24)\n",
      "Requirement already satisfied: sympy in c:\\users\\samir\\documents\\github\\mt_rag_llm\\mtgitenv\\lib\\site-packages (from torch>=1.11.0->sentence_transformers) (1.13.2)\n",
      "Requirement already satisfied: networkx in c:\\users\\samir\\documents\\github\\mt_rag_llm\\mtgitenv\\lib\\site-packages (from torch>=1.11.0->sentence_transformers) (3.3)\n",
      "Requirement already satisfied: setuptools in c:\\users\\samir\\documents\\github\\mt_rag_llm\\mtgitenv\\lib\\site-packages (from torch>=1.11.0->sentence_transformers) (73.0.1)\n",
      "Requirement already satisfied: colorama in c:\\users\\samir\\documents\\github\\mt_rag_llm\\mtgitenv\\lib\\site-packages (from tqdm>4->openai) (0.4.6)\n",
      "Requirement already satisfied: safetensors>=0.4.1 in c:\\users\\samir\\documents\\github\\mt_rag_llm\\mtgitenv\\lib\\site-packages (from transformers<5.0.0,>=4.34.0->sentence_transformers) (0.4.4)\n",
      "Requirement already satisfied: tokenizers<0.20,>=0.19 in c:\\users\\samir\\documents\\github\\mt_rag_llm\\mtgitenv\\lib\\site-packages (from transformers<5.0.0,>=4.34.0->sentence_transformers) (0.19.1)\n",
      "Requirement already satisfied: click>=8.0.0 in c:\\users\\samir\\documents\\github\\mt_rag_llm\\mtgitenv\\lib\\site-packages (from typer<1.0,>=0.12->gradio) (8.1.7)\n",
      "Requirement already satisfied: shellingham>=1.3.0 in c:\\users\\samir\\documents\\github\\mt_rag_llm\\mtgitenv\\lib\\site-packages (from typer<1.0,>=0.12->gradio) (1.5.4)\n",
      "Requirement already satisfied: rich>=10.11.0 in c:\\users\\samir\\documents\\github\\mt_rag_llm\\mtgitenv\\lib\\site-packages (from typer<1.0,>=0.12->gradio) (13.8.0)\n",
      "Requirement already satisfied: starlette<0.39.0,>=0.37.2 in c:\\users\\samir\\documents\\github\\mt_rag_llm\\mtgitenv\\lib\\site-packages (from fastapi->gradio) (0.38.2)\n",
      "Requirement already satisfied: joblib>=1.2.0 in c:\\users\\samir\\documents\\github\\mt_rag_llm\\mtgitenv\\lib\\site-packages (from scikit-learn->sentence_transformers) (1.4.2)\n",
      "Requirement already satisfied: threadpoolctl>=3.1.0 in c:\\users\\samir\\documents\\github\\mt_rag_llm\\mtgitenv\\lib\\site-packages (from scikit-learn->sentence_transformers) (3.5.0)\n",
      "Requirement already satisfied: jsonpointer>=1.9 in c:\\users\\samir\\documents\\github\\mt_rag_llm\\mtgitenv\\lib\\site-packages (from jsonpatch<2.0,>=1.33->langchain-core<0.3.0,>=0.2.32->langchain) (3.0.0)\n",
      "Requirement already satisfied: markdown-it-py>=2.2.0 in c:\\users\\samir\\documents\\github\\mt_rag_llm\\mtgitenv\\lib\\site-packages (from rich>=10.11.0->typer<1.0,>=0.12->gradio) (3.0.0)\n",
      "Requirement already satisfied: pygments<3.0.0,>=2.13.0 in c:\\users\\samir\\documents\\github\\mt_rag_llm\\mtgitenv\\lib\\site-packages (from rich>=10.11.0->typer<1.0,>=0.12->gradio) (2.18.0)\n",
      "Requirement already satisfied: mypy-extensions>=0.3.0 in c:\\users\\samir\\documents\\github\\mt_rag_llm\\mtgitenv\\lib\\site-packages (from typing-inspect<1,>=0.4.0->dataclasses-json<0.7,>=0.5.7->langchain_community) (1.0.0)\n",
      "Requirement already satisfied: mpmath<1.4,>=1.1.0 in c:\\users\\samir\\documents\\github\\mt_rag_llm\\mtgitenv\\lib\\site-packages (from sympy->torch>=1.11.0->sentence_transformers) (1.3.0)\n",
      "Requirement already satisfied: mdurl~=0.1 in c:\\users\\samir\\documents\\github\\mt_rag_llm\\mtgitenv\\lib\\site-packages (from markdown-it-py>=2.2.0->rich>=10.11.0->typer<1.0,>=0.12->gradio) (0.1.2)\n",
      "Requirement already satisfied: transformers in c:\\users\\samir\\documents\\github\\mt_rag_llm\\mtgitenv\\lib\\site-packages (4.44.2)\n",
      "Requirement already satisfied: filelock in c:\\users\\samir\\documents\\github\\mt_rag_llm\\mtgitenv\\lib\\site-packages (from transformers) (3.15.4)\n",
      "Requirement already satisfied: huggingface-hub<1.0,>=0.23.2 in c:\\users\\samir\\documents\\github\\mt_rag_llm\\mtgitenv\\lib\\site-packages (from transformers) (0.24.6)\n",
      "Requirement already satisfied: numpy>=1.17 in c:\\users\\samir\\documents\\github\\mt_rag_llm\\mtgitenv\\lib\\site-packages (from transformers) (1.26.4)\n",
      "Requirement already satisfied: packaging>=20.0 in c:\\users\\samir\\documents\\github\\mt_rag_llm\\mtgitenv\\lib\\site-packages (from transformers) (24.1)\n",
      "Requirement already satisfied: pyyaml>=5.1 in c:\\users\\samir\\documents\\github\\mt_rag_llm\\mtgitenv\\lib\\site-packages (from transformers) (6.0.2)\n",
      "Requirement already satisfied: regex!=2019.12.17 in c:\\users\\samir\\documents\\github\\mt_rag_llm\\mtgitenv\\lib\\site-packages (from transformers) (2024.7.24)\n",
      "Requirement already satisfied: requests in c:\\users\\samir\\documents\\github\\mt_rag_llm\\mtgitenv\\lib\\site-packages (from transformers) (2.32.3)\n",
      "Requirement already satisfied: safetensors>=0.4.1 in c:\\users\\samir\\documents\\github\\mt_rag_llm\\mtgitenv\\lib\\site-packages (from transformers) (0.4.4)\n",
      "Requirement already satisfied: tokenizers<0.20,>=0.19 in c:\\users\\samir\\documents\\github\\mt_rag_llm\\mtgitenv\\lib\\site-packages (from transformers) (0.19.1)\n",
      "Requirement already satisfied: tqdm>=4.27 in c:\\users\\samir\\documents\\github\\mt_rag_llm\\mtgitenv\\lib\\site-packages (from transformers) (4.66.5)\n",
      "Requirement already satisfied: fsspec>=2023.5.0 in c:\\users\\samir\\documents\\github\\mt_rag_llm\\mtgitenv\\lib\\site-packages (from huggingface-hub<1.0,>=0.23.2->transformers) (2024.6.1)\n",
      "Requirement already satisfied: typing-extensions>=3.7.4.3 in c:\\users\\samir\\documents\\github\\mt_rag_llm\\mtgitenv\\lib\\site-packages (from huggingface-hub<1.0,>=0.23.2->transformers) (4.12.2)\n",
      "Requirement already satisfied: colorama in c:\\users\\samir\\documents\\github\\mt_rag_llm\\mtgitenv\\lib\\site-packages (from tqdm>=4.27->transformers) (0.4.6)\n",
      "Requirement already satisfied: charset-normalizer<4,>=2 in c:\\users\\samir\\documents\\github\\mt_rag_llm\\mtgitenv\\lib\\site-packages (from requests->transformers) (3.3.2)\n",
      "Requirement already satisfied: idna<4,>=2.5 in c:\\users\\samir\\documents\\github\\mt_rag_llm\\mtgitenv\\lib\\site-packages (from requests->transformers) (3.8)\n",
      "Requirement already satisfied: urllib3<3,>=1.21.1 in c:\\users\\samir\\documents\\github\\mt_rag_llm\\mtgitenv\\lib\\site-packages (from requests->transformers) (2.2.2)\n",
      "Requirement already satisfied: certifi>=2017.4.17 in c:\\users\\samir\\documents\\github\\mt_rag_llm\\mtgitenv\\lib\\site-packages (from requests->transformers) (2024.7.4)\n",
      "Note: you may need to restart the kernel to use updated packages.\n",
      "Requirement already satisfied: accelerate in c:\\users\\samir\\documents\\github\\mt_rag_llm\\mtgitenv\\lib\\site-packages (0.33.0)\n",
      "Requirement already satisfied: numpy<2.0.0,>=1.17 in c:\\users\\samir\\documents\\github\\mt_rag_llm\\mtgitenv\\lib\\site-packages (from accelerate) (1.26.4)\n",
      "Requirement already satisfied: packaging>=20.0 in c:\\users\\samir\\documents\\github\\mt_rag_llm\\mtgitenv\\lib\\site-packages (from accelerate) (24.1)\n",
      "Requirement already satisfied: psutil in c:\\users\\samir\\documents\\github\\mt_rag_llm\\mtgitenv\\lib\\site-packages (from accelerate) (6.0.0)\n",
      "Requirement already satisfied: pyyaml in c:\\users\\samir\\documents\\github\\mt_rag_llm\\mtgitenv\\lib\\site-packages (from accelerate) (6.0.2)\n",
      "Requirement already satisfied: torch>=1.10.0 in c:\\users\\samir\\documents\\github\\mt_rag_llm\\mtgitenv\\lib\\site-packages (from accelerate) (2.4.0)\n",
      "Requirement already satisfied: huggingface-hub>=0.21.0 in c:\\users\\samir\\documents\\github\\mt_rag_llm\\mtgitenv\\lib\\site-packages (from accelerate) (0.24.6)\n",
      "Requirement already satisfied: safetensors>=0.3.1 in c:\\users\\samir\\documents\\github\\mt_rag_llm\\mtgitenv\\lib\\site-packages (from accelerate) (0.4.4)\n",
      "Requirement already satisfied: filelock in c:\\users\\samir\\documents\\github\\mt_rag_llm\\mtgitenv\\lib\\site-packages (from huggingface-hub>=0.21.0->accelerate) (3.15.4)\n",
      "Requirement already satisfied: fsspec>=2023.5.0 in c:\\users\\samir\\documents\\github\\mt_rag_llm\\mtgitenv\\lib\\site-packages (from huggingface-hub>=0.21.0->accelerate) (2024.6.1)\n",
      "Requirement already satisfied: requests in c:\\users\\samir\\documents\\github\\mt_rag_llm\\mtgitenv\\lib\\site-packages (from huggingface-hub>=0.21.0->accelerate) (2.32.3)\n",
      "Requirement already satisfied: tqdm>=4.42.1 in c:\\users\\samir\\documents\\github\\mt_rag_llm\\mtgitenv\\lib\\site-packages (from huggingface-hub>=0.21.0->accelerate) (4.66.5)\n",
      "Requirement already satisfied: typing-extensions>=3.7.4.3 in c:\\users\\samir\\documents\\github\\mt_rag_llm\\mtgitenv\\lib\\site-packages (from huggingface-hub>=0.21.0->accelerate) (4.12.2)\n",
      "Requirement already satisfied: sympy in c:\\users\\samir\\documents\\github\\mt_rag_llm\\mtgitenv\\lib\\site-packages (from torch>=1.10.0->accelerate) (1.13.2)\n",
      "Requirement already satisfied: networkx in c:\\users\\samir\\documents\\github\\mt_rag_llm\\mtgitenv\\lib\\site-packages (from torch>=1.10.0->accelerate) (3.3)\n",
      "Requirement already satisfied: jinja2 in c:\\users\\samir\\documents\\github\\mt_rag_llm\\mtgitenv\\lib\\site-packages (from torch>=1.10.0->accelerate) (3.1.4)\n",
      "Requirement already satisfied: setuptools in c:\\users\\samir\\documents\\github\\mt_rag_llm\\mtgitenv\\lib\\site-packages (from torch>=1.10.0->accelerate) (73.0.1)\n",
      "Requirement already satisfied: colorama in c:\\users\\samir\\documents\\github\\mt_rag_llm\\mtgitenv\\lib\\site-packages (from tqdm>=4.42.1->huggingface-hub>=0.21.0->accelerate) (0.4.6)\n",
      "Requirement already satisfied: MarkupSafe>=2.0 in c:\\users\\samir\\documents\\github\\mt_rag_llm\\mtgitenv\\lib\\site-packages (from jinja2->torch>=1.10.0->accelerate) (2.1.5)\n",
      "Requirement already satisfied: charset-normalizer<4,>=2 in c:\\users\\samir\\documents\\github\\mt_rag_llm\\mtgitenv\\lib\\site-packages (from requests->huggingface-hub>=0.21.0->accelerate) (3.3.2)\n",
      "Requirement already satisfied: idna<4,>=2.5 in c:\\users\\samir\\documents\\github\\mt_rag_llm\\mtgitenv\\lib\\site-packages (from requests->huggingface-hub>=0.21.0->accelerate) (3.8)\n",
      "Requirement already satisfied: urllib3<3,>=1.21.1 in c:\\users\\samir\\documents\\github\\mt_rag_llm\\mtgitenv\\lib\\site-packages (from requests->huggingface-hub>=0.21.0->accelerate) (2.2.2)\n",
      "Requirement already satisfied: certifi>=2017.4.17 in c:\\users\\samir\\documents\\github\\mt_rag_llm\\mtgitenv\\lib\\site-packages (from requests->huggingface-hub>=0.21.0->accelerate) (2024.7.4)\n",
      "Requirement already satisfied: mpmath<1.4,>=1.1.0 in c:\\users\\samir\\documents\\github\\mt_rag_llm\\mtgitenv\\lib\\site-packages (from sympy->torch>=1.10.0->accelerate) (1.3.0)\n",
      "Note: you may need to restart the kernel to use updated packages.\n"
     ]
    }
   ],
   "source": [
    "%run Setup.ipynb"
   ]
  },
  {
   "cell_type": "code",
   "execution_count": null,
   "metadata": {},
   "outputs": [],
   "source": [
    "# In Google Colab, the Google Drive can be mounted as follows to access documents\n",
    "#from google.colab import drive\n",
    "#drive.mount('/content/drive')"
   ]
  },
  {
   "cell_type": "code",
   "execution_count": 4,
   "metadata": {},
   "outputs": [
    {
     "name": "stdout",
     "output_type": "stream",
     "text": [
      "Dataset Path: SpiderTrain_complete.csv\n"
     ]
    },
    {
     "data": {
      "application/vnd.jupyter.widget-view+json": {
       "model_id": "baa00c34f0594e888c17b3f5a7e9ad3b",
       "version_major": 2,
       "version_minor": 0
      },
      "text/plain": [
       "Generating train split: 0 examples [00:00, ? examples/s]"
      ]
     },
     "metadata": {},
     "output_type": "display_data"
    },
    {
     "name": "stdout",
     "output_type": "stream",
     "text": [
      "                                               Query  \\\n",
      "0         SELECT count(*) FROM head WHERE age  >  56   \n",
      "1  SELECT name ,  born_state ,  age FROM head ORD...   \n",
      "2  SELECT creation ,  name ,  budget_in_billions ...   \n",
      "3  SELECT max(budget_in_billions) ,  min(budget_i...   \n",
      "4  SELECT avg(num_employees) FROM department WHER...   \n",
      "\n",
      "                                            Question  \n",
      "0  How many heads of the departments are older th...  \n",
      "1  List the name, born state and age of the heads...  \n",
      "2  List the creation year, name and budget of eac...  \n",
      "3  What are the maximum and minimum budget of the...  \n",
      "4  What is the average number of employees of the...  \n"
     ]
    }
   ],
   "source": [
    "# Upload the dataset and transform to dataframe\n",
    "# Define the dataset path\n",
    "dataset_path = \"SpiderTrain_complete.csv\"\n",
    "print(\"Dataset Path:\", dataset_path)\n",
    "\n",
    "# Check if the file exists at the specified path\n",
    "if not os.path.isfile(dataset_path):\n",
    "    raise FileNotFoundError(f\"Unable to find the file at {dataset_path}\")\n",
    "\n",
    "# Load the dataset\n",
    "dataset = load_dataset('csv', data_files=dataset_path)\n",
    "\n",
    "# Convert the dataset to a pandas dataframe\n",
    "dataset_df = pd.DataFrame(dataset[\"train\"])\n",
    "\n",
    "# Print a few rows to verify\n",
    "print(dataset_df.head())"
   ]
  },
  {
   "cell_type": "code",
   "execution_count": 5,
   "metadata": {},
   "outputs": [],
   "source": [
    "# Setting the embedding model and getting the embeddings for the dataframe\n",
    "embedding_model = SentenceTransformer(\"thenlper/gte-large\")\n",
    "def get_embedding(text: str) -> list[float]:\n",
    "    if not text.strip():\n",
    "        print(\"Attempted to get embedding for empty text.\")\n",
    "        return []\n",
    "\n",
    "    embedding = embedding_model.encode(text)\n",
    "\n",
    "    return embedding.tolist()\n",
    "dataset_df[\"embedding\"] = dataset_df[\"Query\"].apply(get_embedding)"
   ]
  },
  {
   "cell_type": "code",
   "execution_count": 6,
   "metadata": {},
   "outputs": [
    {
     "name": "stdout",
     "output_type": "stream",
     "text": [
      "Pinged your deployment. You successfully connected to MongoDB!\n"
     ]
    }
   ],
   "source": [
    "# MongoDB setup\n",
    "client = MongoClient(MONGO_URI_SQL)\n",
    "dbName = \"MVector\"\n",
    "collectionName = \"MTSQL\"\n",
    "collection = client[dbName][collectionName]\n",
    "index_name = \"vector_index_sql\"\n",
    "\n",
    "# Send a ping to confirm a successful connection\n",
    "try:\n",
    "    client.admin.command('ping')\n",
    "    print(\"Pinged your deployment. You successfully connected to MongoDB!\")\n",
    "except Exception as e:\n",
    "    print(e)"
   ]
  },
  {
   "cell_type": "code",
   "execution_count": null,
   "metadata": {},
   "outputs": [],
   "source": [
    "# Delete any existing records in the collection before loading the new data\n",
    "collection.delete_many({})"
   ]
  },
  {
   "cell_type": "code",
   "execution_count": 7,
   "metadata": {},
   "outputs": [
    {
     "name": "stdout",
     "output_type": "stream",
     "text": [
      "Data ingestion into MongoDB completed\n"
     ]
    }
   ],
   "source": [
    "# Insert the documents into the collection\n",
    "documents = dataset_df.to_dict(\"records\")\n",
    "collection.insert_many(documents)\n",
    "print(\"Data ingestion into MongoDB completed\")"
   ]
  }
 ],
 "metadata": {
  "kernelspec": {
   "display_name": "mtenv",
   "language": "python",
   "name": "python3"
  },
  "language_info": {
   "codemirror_mode": {
    "name": "ipython",
    "version": 3
   },
   "file_extension": ".py",
   "mimetype": "text/x-python",
   "name": "python",
   "nbconvert_exporter": "python",
   "pygments_lexer": "ipython3",
   "version": "3.12.3"
  }
 },
 "nbformat": 4,
 "nbformat_minor": 2
}
