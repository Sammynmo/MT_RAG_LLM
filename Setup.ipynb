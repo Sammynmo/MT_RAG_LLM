{
 "cells": [
  {
   "cell_type": "code",
   "execution_count": null,
   "metadata": {},
   "outputs": [],
   "source": [
    "\n",
    "# Installing the required packages\n",
    "%pip install langchain pymongo openai gradio requests langchain_community langchain_core langchain_mongodb langchain-openai langchain-mongodb python-dotenv datasets pandas nbformat langchain-google-genai langchain-anthropic scikit-learn numpy scipy tensorflow tf-keras\n",
    "%pip install -U transformers sentence-transformers einops\n",
    "%pip install torch torchvision torchaudio\n",
    "#install below if using GPU\n",
    "%pip install accelerate"
   ]
  },
  {
   "cell_type": "code",
   "execution_count": null,
   "metadata": {},
   "outputs": [],
   "source": [
    "# Importing the required libraries\n",
    "from pymongo import MongoClient\n",
    "from langchain_openai import OpenAIEmbeddings\n",
    "from langchain_mongodb import MongoDBAtlasVectorSearch\n",
    "from langchain.document_loaders import DirectoryLoader\n",
    "from langchain_openai import OpenAI\n",
    "from langchain_openai import ChatOpenAI\n",
    "from langchain.chains import RetrievalQA\n",
    "import gradio as gr\n",
    "from gradio.themes.base import Base\n",
    "from langchain_core.output_parsers import StrOutputParser\n",
    "from langchain.prompts import ChatPromptTemplate\n",
    "from langchain_core.runnables import RunnableParallel, RunnablePassthrough\n",
    "from sentence_transformers import SentenceTransformer # https://huggingface.co/thenlper/gte-large\n",
    "from transformers import AutoTokenizer, AutoModelForCausalLM, AutoConfig\n",
    "import os\n",
    "from dotenv import load_dotenv\n",
    "from datasets import load_dataset\n",
    "import pandas as pd\n",
    "from pymongo.mongo_client import MongoClient\n",
    "from langchain_google_genai import ChatGoogleGenerativeAI\n",
    "from langchain_anthropic import ChatAnthropic\n",
    "import openai\n",
    "from sklearn.metrics.pairwise import cosine_similarity\n",
    "from sentence_transformers.util import cos_sim\n",
    "import torch\n",
    "import gc"
   ]
  },
  {
   "cell_type": "code",
   "execution_count": null,
   "metadata": {},
   "outputs": [],
   "source": [
    "\n",
    "# Accessing the secrets from the environment variables\n",
    "load_dotenv()\n",
    "MONGO_URI_SQL = os.getenv(\"MONGO_URI_SQL\")\n",
    "MONGO_URI_schema = os.getenv(\"MONGO_URI_Schema\")\n",
    "OPENAI_API_KEY = os.getenv(\"OPENAI_API_KEY\")\n",
    "HF_Token = os.getenv(\"HF_TOKEN\")\n",
    "GOOGLE_API_KEY = os.getenv(\"GOOGLE_API_KEY\")\n",
    "ANTHROPIC_API_KEY = os.getenv(\"ANTHROPIC_API_KEY\")\n",
    "\n",
    "# In Google Colab, you can use the following code to access the secrets\n",
    "#from google.colab import userdata\n",
    "#MONGO_URI_SQL = userdata.get('MONGO_URI_SQL')\n",
    "#MONGO_URI_schema = userdata.get(\"MONGO_URI_Schema\")\n",
    "#OPENAI_API_KEY = userdata.get(\"OPENAI_API_KEY\")\n",
    "#HF_Token = userdata.get('HF_TOKEN')\n",
    "#GOOGLE_API_KEY = userdata.get('GOOGLE_API_KEY')\n",
    "#ANTHROPIC_API_KEY = userdata.get('ANTHROPIC_API_KEY')"
   ]
  }
 ],
 "metadata": {
  "kernelspec": {
   "display_name": "mtgitenv",
   "language": "python",
   "name": "python3"
  },
  "language_info": {
   "codemirror_mode": {
    "name": "ipython",
    "version": 3
   },
   "file_extension": ".py",
   "mimetype": "text/x-python",
   "name": "python",
   "nbconvert_exporter": "python",
   "pygments_lexer": "ipython3",
   "version": "3.12.3"
  }
 },
 "nbformat": 4,
 "nbformat_minor": 2
}
